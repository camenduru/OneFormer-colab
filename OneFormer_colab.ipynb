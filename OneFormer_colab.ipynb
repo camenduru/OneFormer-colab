{
  "cells": [
    {
      "cell_type": "markdown",
      "metadata": {
        "id": "view-in-github"
      },
      "source": [
        "[![Open In Colab](https://colab.research.google.com/assets/colab-badge.svg)](https://colab.research.google.com/github/camenduru/OneFormer-colab/blob/main/OneFormer_colab.ipynb)"
      ]
    },
    {
      "cell_type": "code",
      "execution_count": null,
      "metadata": {
        "id": "VjYy0F2gZIPR"
      },
      "outputs": [],
      "source": [
        "%cd /content\n",
        "!git clone -b dev https://github.com/camenduru/OneFormer-hf\n",
        "%cd /content/OneFormer-hf\n",
        "!pip install -q https://github.com/camenduru/wheels/releases/download/colab/detectron2-0.6-cp310-cp310-linux_x86_64.whl\n",
        "!pip install -q https://github.com/camenduru/wheels/releases/download/colab/natten-0.14.7.dev0-cp310-cp310-linux_x86_64.whl\n",
        "!pip install -q https://github.com/camenduru/wheels/releases/download/colab/MultiScaleDeformableAttention-1.0-cp310-cp310-linux_x86_64.whl\n",
        "!pip install -q gradio==3.50.2 timm wandb diffdist einops ftfy\n",
        "\n",
        "!wget https://praeclarumjj3.github.io/files/ade20k.jpeg -P /content/OneFormer-hf/examples/\n",
        "!wget https://praeclarumjj3.github.io/files/cityscapes.png -P /content/OneFormer-hf/examples/\n",
        "!wget https://praeclarumjj3.github.io/files/coco.jpeg -P /content/OneFormer-hf/examples/\n",
        "\n",
        "!python gradio_app.py"
      ]
    }
  ],
  "metadata": {
    "accelerator": "GPU",
    "colab": {
      "gpuType": "T4",
      "provenance": []
    },
    "kernelspec": {
      "display_name": "Python 3",
      "name": "python3"
    },
    "language_info": {
      "name": "python"
    }
  },
  "nbformat": 4,
  "nbformat_minor": 0
}
